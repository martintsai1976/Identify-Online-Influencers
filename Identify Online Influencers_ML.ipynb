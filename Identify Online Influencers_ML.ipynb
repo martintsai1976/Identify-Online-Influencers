{
 "cells": [
  {
   "cell_type": "code",
   "execution_count": 1,
   "metadata": {},
   "outputs": [],
   "source": [
    "import numpy as np \n",
    "import pandas as pd\n",
    "import seaborn as sns\n",
    "import matplotlib.pyplot as plt\n",
    "%matplotlib inline\n",
    "import warnings\n",
    "warnings.filterwarnings(\"ignore\")\n",
    "from sklearn.model_selection import GridSearchCV\n",
    "\n",
    "import os\n",
    "from datetime import datetime\n",
    "from pathlib import Path\n",
    "import sys\n",
    "import xlrd\n",
    "import pycountry\n",
    "from statistics import mean\n",
    "import datetime as dt\n",
    "import statsmodels.api as sm\n",
    "import matplotlib as mpl\n",
    "mpl.rcParams['figure.dpi'] = 100\n",
    "\n",
    "from sklearn.model_selection import cross_val_score\n",
    "from sklearn.linear_model import LinearRegression\n",
    "from sklearn.preprocessing import PolynomialFeatures\n",
    "from sklearn.pipeline import make_pipeline\n",
    "from sklearn.tree import DecisionTreeRegressor\n",
    "from sklearn.ensemble import RandomForestRegressor\n",
    "from sklearn.ensemble import GradientBoostingRegressor\n",
    "from sklearn.metrics import r2_score"
   ]
  },
  {
   "cell_type": "code",
   "execution_count": 2,
   "metadata": {},
   "outputs": [
    {
     "data": {
      "text/html": [
       "<div>\n",
       "<style scoped>\n",
       "    .dataframe tbody tr th:only-of-type {\n",
       "        vertical-align: middle;\n",
       "    }\n",
       "\n",
       "    .dataframe tbody tr th {\n",
       "        vertical-align: top;\n",
       "    }\n",
       "\n",
       "    .dataframe thead th {\n",
       "        text-align: right;\n",
       "    }\n",
       "</style>\n",
       "<table border=\"1\" class=\"dataframe\">\n",
       "  <thead>\n",
       "    <tr style=\"text-align: right;\">\n",
       "      <th></th>\n",
       "      <th>date</th>\n",
       "      <th>rating</th>\n",
       "      <th>number_of_reviews</th>\n",
       "      <th>number_of_friends</th>\n",
       "      <th>negative_sentiment</th>\n",
       "      <th>positive_sentiment</th>\n",
       "      <th>average_sentiment</th>\n",
       "    </tr>\n",
       "  </thead>\n",
       "  <tbody>\n",
       "    <tr>\n",
       "      <th>0</th>\n",
       "      <td>4254</td>\n",
       "      <td>5</td>\n",
       "      <td>74</td>\n",
       "      <td>126</td>\n",
       "      <td>-1</td>\n",
       "      <td>4</td>\n",
       "      <td>3</td>\n",
       "    </tr>\n",
       "    <tr>\n",
       "      <th>1</th>\n",
       "      <td>4129</td>\n",
       "      <td>5</td>\n",
       "      <td>466</td>\n",
       "      <td>196</td>\n",
       "      <td>-3</td>\n",
       "      <td>4</td>\n",
       "      <td>1</td>\n",
       "    </tr>\n",
       "    <tr>\n",
       "      <th>2</th>\n",
       "      <td>4223</td>\n",
       "      <td>5</td>\n",
       "      <td>274</td>\n",
       "      <td>183</td>\n",
       "      <td>-1</td>\n",
       "      <td>4</td>\n",
       "      <td>3</td>\n",
       "    </tr>\n",
       "  </tbody>\n",
       "</table>\n",
       "</div>"
      ],
      "text/plain": [
       "   date  rating  number_of_reviews  number_of_friends  negative_sentiment  \\\n",
       "0  4254       5                 74                126                  -1   \n",
       "1  4129       5                466                196                  -3   \n",
       "2  4223       5                274                183                  -1   \n",
       "\n",
       "   positive_sentiment  average_sentiment  \n",
       "0                   4                  3  \n",
       "1                   4                  1  \n",
       "2                   4                  3  "
      ]
     },
     "execution_count": 2,
     "metadata": {},
     "output_type": "execute_result"
    }
   ],
   "source": [
    "df = pd.read_csv('review_is.csv')\n",
    "df2 = df[['date', 'rating', 'number_of_reviews', 'number_of_friends',\n",
    "          'Negative_SentiStrength_Score', 'Positive_SentiStrength_Score', 'Average_SentiStrength_Score', ]]\n",
    "\n",
    "df2 = df2.rename(columns={'Negative_SentiStrength_Score': 'negative_sentiment', 'Positive_SentiStrength_Score': 'positive_sentiment',\n",
    "                          'Average_SentiStrength_Score': 'average_sentiment', })\n",
    "df2['date'] = pd.to_datetime(df2['date'], errors='coerce')\n",
    "df2['date'] = df2['date'].map(dt.datetime.toordinal) - 733606\n",
    "\n",
    "df2.head(3)"
   ]
  },
  {
   "cell_type": "code",
   "execution_count": 3,
   "metadata": {},
   "outputs": [],
   "source": [
    "from sklearn.model_selection import train_test_split\n",
    "\n",
    "X = df2.drop(columns=['number_of_friends'])\n",
    "y = df2['number_of_friends']\n",
    "\n",
    "X_train, X_test, y_train, y_test = train_test_split(X, y, train_size=0.8, random_state=42)"
   ]
  },
  {
   "cell_type": "code",
   "execution_count": 4,
   "metadata": {},
   "outputs": [
    {
     "name": "stdout",
     "output_type": "stream",
     "text": [
      "<LinearRegression>\n",
      "training score: 0.2252\n",
      "testing  score: 0.2779\n",
      "\n",
      "<DecisionTreeRegressor>\n",
      "training score: 0.0847\n",
      "testing  score: 0.177\n",
      "\n",
      "<RandomForestRegressor>\n",
      "training score: 0.4974\n",
      "testing  score: 0.5724\n",
      "\n",
      "<GradientBoostingRegressor>\n",
      "training score: 0.491\n",
      "testing  score: 0.6195\n",
      "\n"
     ]
    }
   ],
   "source": [
    "mdl = [LinearRegression, DecisionTreeRegressor, RandomForestRegressor, GradientBoostingRegressor]\n",
    "\n",
    "for i in mdl:\n",
    "    model = i()\n",
    "    name = type(model).__name__\n",
    "    model.fit(X_train, y_train)\n",
    "    \n",
    "    train_score = cross_val_score(model, X_train, y_train, cv=5, n_jobs=-1).mean().round(4)\n",
    "    test_score = model.score(X_test, y_test).round(4)\n",
    "    \n",
    "    print(f'<{name}>')\n",
    "    print(f'training score: {train_score}')\n",
    "    print(f'testing  score: {test_score}')\n",
    "    print('')"
   ]
  },
  {
   "cell_type": "code",
   "execution_count": 5,
   "metadata": {},
   "outputs": [
    {
     "name": "stdout",
     "output_type": "stream",
     "text": [
      "training score: 0.4941\n",
      "testing  score: 0.6193\n"
     ]
    }
   ],
   "source": [
    "model= GradientBoostingRegressor()\n",
    "model.fit(X_train, y_train)\n",
    "    \n",
    "train_score = cross_val_score(model, X_train, y_train, cv=5, n_jobs=-1).mean().round(4)\n",
    "test_score = model.score(X_test, y_test).round(4)\n",
    "    \n",
    "print(f'training score: {train_score}')\n",
    "print(f'testing  score: {test_score}')"
   ]
  },
  {
   "cell_type": "code",
   "execution_count": 6,
   "metadata": {},
   "outputs": [
    {
     "data": {
      "image/png": "[encoded data removed]",
      "text/plain": [
       "<Figure size 1200x600 with 1 Axes>"
      ]
     },
     "metadata": {
      "needs_background": "light"
     },
     "output_type": "display_data"
    }
   ],
   "source": [
    "model = GradientBoostingRegressor()\n",
    "model.fit(X_train, y_train)\n",
    "\n",
    "feature_importance = model.feature_importances_\n",
    "sorted_idx = np.argsort(feature_importance)\n",
    "pos = np.arange(sorted_idx.shape[0]) + .5\n",
    "fig = plt.figure(figsize=(12, 6))\n",
    "plt.subplot(1, 2, 1)\n",
    "plt.barh(pos, feature_importance[sorted_idx], align='center')\n",
    "plt.yticks(pos, np.array(X_train.columns)[sorted_idx])\n",
    "plt.title('Feature Importance (GradientBoostingRegressor)')\n",
    "plt.show()\n",
    "\n",
    "bad_col_gbr = X_train.columns[sorted_idx]"
   ]
  },
  {
   "cell_type": "code",
   "execution_count": 7,
   "metadata": {},
   "outputs": [],
   "source": [
    "col = bad_col_gbr    \n",
    "train_score_gbr = []\n",
    "test_score_gbr = []\n",
    "\n",
    "for i in range(len(col)):\n",
    "    X_train2 = X_train.drop(columns=col[:i])\n",
    "    X_test2 = X_test.drop(columns=col[:i])\n",
    "\n",
    "    # Modeling\n",
    "    model = GradientBoostingRegressor()\n",
    "    model.fit(X_train2, y_train)\n",
    "    a = cross_val_score(model, X_train2, y_train, cv=5, n_jobs=-1).mean().round(4)\n",
    "    b = model.score(X_test2, y_test).round(4)\n",
    "\n",
    "    train_score_gbr.append(a)\n",
    "    test_score_gbr.append(b)"
   ]
  },
  {
   "cell_type": "code",
   "execution_count": 8,
   "metadata": {},
   "outputs": [
    {
     "data": {
      "image/png": "[encoded data removed]",
      "text/plain": [
       "<Figure size 600x400 with 1 Axes>"
      ]
     },
     "metadata": {
      "needs_background": "light"
     },
     "output_type": "display_data"
    },
    {
     "data": {
      "text/html": [
       "<div>\n",
       "<style scoped>\n",
       "    .dataframe tbody tr th:only-of-type {\n",
       "        vertical-align: middle;\n",
       "    }\n",
       "\n",
       "    .dataframe tbody tr th {\n",
       "        vertical-align: top;\n",
       "    }\n",
       "\n",
       "    .dataframe thead th {\n",
       "        text-align: right;\n",
       "    }\n",
       "</style>\n",
       "<table border=\"1\" class=\"dataframe\">\n",
       "  <thead>\n",
       "    <tr style=\"text-align: right;\">\n",
       "      <th></th>\n",
       "      <th>dropped_feature</th>\n",
       "      <th>train_score</th>\n",
       "      <th>test_score</th>\n",
       "    </tr>\n",
       "  </thead>\n",
       "  <tbody>\n",
       "    <tr>\n",
       "      <th>1</th>\n",
       "      <td>NaN</td>\n",
       "      <td>0.4926</td>\n",
       "      <td>0.6202</td>\n",
       "    </tr>\n",
       "    <tr>\n",
       "      <th>2</th>\n",
       "      <td>negative_sentiment</td>\n",
       "      <td>0.5031</td>\n",
       "      <td>0.6219</td>\n",
       "    </tr>\n",
       "    <tr>\n",
       "      <th>3</th>\n",
       "      <td>positive_sentiment</td>\n",
       "      <td>0.4933</td>\n",
       "      <td>0.6265</td>\n",
       "    </tr>\n",
       "    <tr>\n",
       "      <th>4</th>\n",
       "      <td>average_sentiment</td>\n",
       "      <td>0.4989</td>\n",
       "      <td>0.6462</td>\n",
       "    </tr>\n",
       "    <tr>\n",
       "      <th>5</th>\n",
       "      <td>date</td>\n",
       "      <td>0.4976</td>\n",
       "      <td>0.6890</td>\n",
       "    </tr>\n",
       "    <tr>\n",
       "      <th>6</th>\n",
       "      <td>rating</td>\n",
       "      <td>0.5488</td>\n",
       "      <td>0.7051</td>\n",
       "    </tr>\n",
       "  </tbody>\n",
       "</table>\n",
       "</div>"
      ],
      "text/plain": [
       "      dropped_feature  train_score  test_score\n",
       "1                 NaN       0.4926      0.6202\n",
       "2  negative_sentiment       0.5031      0.6219\n",
       "3  positive_sentiment       0.4933      0.6265\n",
       "4   average_sentiment       0.4989      0.6462\n",
       "5                date       0.4976      0.6890\n",
       "6              rating       0.5488      0.7051"
      ]
     },
     "execution_count": 8,
     "metadata": {},
     "output_type": "execute_result"
    }
   ],
   "source": [
    "col = ['NaN', 'negative_sentiment', 'positive_sentiment', 'average_sentiment', 'date', 'rating']\n",
    "\n",
    "df_gbr = pd.DataFrame(data={'dropped_feature': col, 'train_score': train_score_gbr, 'test_score': test_score_gbr},\n",
    "                      index=np.arange(1,7))\n",
    "xlabel = np.arange(0,len(df_gbr))\n",
    "\n",
    "plt.plot(xlabel, df_gbr['train_score'], label='train score')\n",
    "plt.plot(xlabel, df_gbr['test_score'], label='test score')\n",
    "\n",
    "plt.xticks(np.arange(0, len(df_gbr), 1))\n",
    "plt.xlabel('Number of Dropped Features')\n",
    "plt.ylabel('R2 Score')\n",
    "plt.title('GradientBoostingRegressor')\n",
    "plt.legend()\n",
    "plt.show()\n",
    "\n",
    "df_gbr"
   ]
  },
  {
   "cell_type": "code",
   "execution_count": 9,
   "metadata": {},
   "outputs": [
    {
     "data": {
      "text/plain": [
       "1615     10\n",
       "7930      3\n",
       "8456      0\n",
       "8100      0\n",
       "6744    141\n",
       "       ... \n",
       "2984      0\n",
       "8911      8\n",
       "2036     58\n",
       "7250    480\n",
       "6567      4\n",
       "Name: number_of_friends, Length: 1824, dtype: int64"
      ]
     },
     "execution_count": 9,
     "metadata": {},
     "output_type": "execute_result"
    }
   ],
   "source": [
    "y_test"
   ]
  },
  {
   "cell_type": "code",
   "execution_count": 10,
   "metadata": {},
   "outputs": [],
   "source": [
    "test = pd.concat([X_test, y_test], axis=1)\n",
    "test = test.sort_values(by='number_of_friends')\n",
    "X_test3 = test.drop(columns='number_of_friends')\n",
    "y_test3 = test['number_of_friends']"
   ]
  },
  {
   "cell_type": "code",
   "execution_count": 11,
   "metadata": {},
   "outputs": [
    {
     "data": {
      "image/png": "[encoded data removed]",
      "text/plain": [
       "<Figure size 600x400 with 1 Axes>"
      ]
     },
     "metadata": {
      "needs_background": "light"
     },
     "output_type": "display_data"
    }
   ],
   "source": [
    "model= GradientBoostingRegressor()\n",
    "model.fit(X_train, y_train)\n",
    "\n",
    "x = model.predict(X_test3)\n",
    "y = y_test3\n",
    "z = list(range(0, len(x)))\n",
    "\n",
    "plt.scatter(z, y, s=0.3, label='true_value')\n",
    "plt.scatter(z, x, s=0.3, c='r', label='predicted_value')\n",
    "plt.xlabel('id (ranked by true values)')\n",
    "plt.ylabel('number_of_friends')\n",
    "plt.yticks(np.arange(0, 5000, step=500))\n",
    "plt.legend()\n",
    "plt.show()"
   ]
  },
  {
   "cell_type": "code",
   "execution_count": 12,
   "metadata": {},
   "outputs": [
    {
     "data": {
      "text/plain": [
       "64"
      ]
     },
     "execution_count": 12,
     "metadata": {},
     "output_type": "execute_result"
    }
   ],
   "source": [
    "y_test3.iloc[1000]"
   ]
  }
 ],
 "metadata": {
  "kernelspec": {
   "display_name": "Python 3",
   "language": "python",
   "name": "python3"
  },
  "language_info": {
   "codemirror_mode": {
    "name": "ipython",
    "version": 3
   },
   "file_extension": ".py",
   "mimetype": "text/x-python",
   "name": "python",
   "nbconvert_exporter": "python",
   "pygments_lexer": "ipython3",
   "version": "3.8.5"
  }
 },
 "nbformat": 4,
 "nbformat_minor": 4
}
