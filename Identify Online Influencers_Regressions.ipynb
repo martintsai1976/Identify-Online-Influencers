{
 "cells": [
  {
   "cell_type": "code",
   "execution_count": 1,
   "metadata": {},
   "outputs": [],
   "source": [
    "import numpy as np \n",
    "import pandas as pd\n",
    "import seaborn as sns\n",
    "import matplotlib.pyplot as plt\n",
    "%matplotlib inline\n",
    "import warnings\n",
    "warnings.filterwarnings(\"ignore\")\n",
    "from sklearn.model_selection import GridSearchCV\n",
    "\n",
    "import os\n",
    "from datetime import datetime\n",
    "from pathlib import Path\n",
    "import sys\n",
    "import xlrd\n",
    "import pycountry\n",
    "from statistics import mean\n",
    "import datetime as dt\n",
    "import statsmodels.api as sm\n",
    "import matplotlib as mpl\n",
    "mpl.rcParams['figure.dpi'] = 100\n",
    "\n",
    "from sklearn.model_selection import cross_val_score\n",
    "from sklearn.linear_model import LinearRegression\n",
    "from sklearn.preprocessing import PolynomialFeatures\n",
    "from sklearn.pipeline import make_pipeline\n",
    "from sklearn.tree import DecisionTreeRegressor\n",
    "from sklearn.ensemble import RandomForestRegressor\n",
    "from sklearn.ensemble import GradientBoostingRegressor\n",
    "from sklearn.metrics import r2_score"
   ]
  },
  {
   "cell_type": "code",
   "execution_count": 2,
   "metadata": {},
   "outputs": [
    {
     "data": {
      "text/html": [
       "<div>\n",
       "<style scoped>\n",
       "    .dataframe tbody tr th:only-of-type {\n",
       "        vertical-align: middle;\n",
       "    }\n",
       "\n",
       "    .dataframe tbody tr th {\n",
       "        vertical-align: top;\n",
       "    }\n",
       "\n",
       "    .dataframe thead th {\n",
       "        text-align: right;\n",
       "    }\n",
       "</style>\n",
       "<table border=\"1\" class=\"dataframe\">\n",
       "  <thead>\n",
       "    <tr style=\"text-align: right;\">\n",
       "      <th></th>\n",
       "      <th>Unnamed: 0</th>\n",
       "      <th>restaurant_name_x</th>\n",
       "      <th>url</th>\n",
       "      <th>reviewer</th>\n",
       "      <th>rating</th>\n",
       "      <th>date</th>\n",
       "      <th>location</th>\n",
       "      <th>number_of_friends</th>\n",
       "      <th>number_of_reviews</th>\n",
       "      <th>text</th>\n",
       "      <th>...</th>\n",
       "      <th>23</th>\n",
       "      <th>24</th>\n",
       "      <th>25</th>\n",
       "      <th>26</th>\n",
       "      <th>27</th>\n",
       "      <th>28</th>\n",
       "      <th>29</th>\n",
       "      <th>Negative_SentiStrength_Score</th>\n",
       "      <th>Positive_SentiStrength_Score</th>\n",
       "      <th>Average_SentiStrength_Score</th>\n",
       "    </tr>\n",
       "  </thead>\n",
       "  <tbody>\n",
       "    <tr>\n",
       "      <th>0</th>\n",
       "      <td>0</td>\n",
       "      <td>Selden Standard</td>\n",
       "      <td>https://www.yelp.com/biz/selden-standard-detro...</td>\n",
       "      <td>Tiana O.</td>\n",
       "      <td>5</td>\n",
       "      <td>3/11/21</td>\n",
       "      <td>Troy, MI</td>\n",
       "      <td>126</td>\n",
       "      <td>74</td>\n",
       "      <td>This is our favorite restaurant in Michigan an...</td>\n",
       "      <td>...</td>\n",
       "      <td>0.038694</td>\n",
       "      <td>0.002504</td>\n",
       "      <td>0.001064</td>\n",
       "      <td>0.000943</td>\n",
       "      <td>0.001865</td>\n",
       "      <td>0.065343</td>\n",
       "      <td>0.001309</td>\n",
       "      <td>-1</td>\n",
       "      <td>4</td>\n",
       "      <td>3</td>\n",
       "    </tr>\n",
       "    <tr>\n",
       "      <th>1</th>\n",
       "      <td>1</td>\n",
       "      <td>Selden Standard</td>\n",
       "      <td>https://www.yelp.com/biz/selden-standard-detro...</td>\n",
       "      <td>Christal P.</td>\n",
       "      <td>5</td>\n",
       "      <td>11/6/20</td>\n",
       "      <td>Detroit, MI</td>\n",
       "      <td>196</td>\n",
       "      <td>466</td>\n",
       "      <td>I had such a nice dining experience at Selden ...</td>\n",
       "      <td>...</td>\n",
       "      <td>0.002343</td>\n",
       "      <td>0.000635</td>\n",
       "      <td>0.000270</td>\n",
       "      <td>0.000239</td>\n",
       "      <td>0.000473</td>\n",
       "      <td>0.053889</td>\n",
       "      <td>0.000332</td>\n",
       "      <td>-3</td>\n",
       "      <td>4</td>\n",
       "      <td>1</td>\n",
       "    </tr>\n",
       "    <tr>\n",
       "      <th>2</th>\n",
       "      <td>2</td>\n",
       "      <td>Selden Standard</td>\n",
       "      <td>https://www.yelp.com/biz/selden-standard-detro...</td>\n",
       "      <td>Vicki D.</td>\n",
       "      <td>5</td>\n",
       "      <td>2/8/21</td>\n",
       "      <td>Chino Hills, CA</td>\n",
       "      <td>183</td>\n",
       "      <td>274</td>\n",
       "      <td>We came here for my daughter's birthday and it...</td>\n",
       "      <td>...</td>\n",
       "      <td>0.018516</td>\n",
       "      <td>0.001198</td>\n",
       "      <td>0.000509</td>\n",
       "      <td>0.000451</td>\n",
       "      <td>0.000892</td>\n",
       "      <td>0.087643</td>\n",
       "      <td>0.000626</td>\n",
       "      <td>-1</td>\n",
       "      <td>4</td>\n",
       "      <td>3</td>\n",
       "    </tr>\n",
       "  </tbody>\n",
       "</table>\n",
       "<p>3 rows × 45 columns</p>\n",
       "</div>"
      ],
      "text/plain": [
       "   Unnamed: 0 restaurant_name_x  \\\n",
       "0           0   Selden Standard   \n",
       "1           1   Selden Standard   \n",
       "2           2   Selden Standard   \n",
       "\n",
       "                                                 url     reviewer  rating  \\\n",
       "0  https://www.yelp.com/biz/selden-standard-detro...     Tiana O.       5   \n",
       "1  https://www.yelp.com/biz/selden-standard-detro...  Christal P.       5   \n",
       "2  https://www.yelp.com/biz/selden-standard-detro...     Vicki D.       5   \n",
       "\n",
       "      date         location  number_of_friends  number_of_reviews  \\\n",
       "0  3/11/21         Troy, MI                126                 74   \n",
       "1  11/6/20      Detroit, MI                196                466   \n",
       "2   2/8/21  Chino Hills, CA                183                274   \n",
       "\n",
       "                                                text  ...        23        24  \\\n",
       "0  This is our favorite restaurant in Michigan an...  ...  0.038694  0.002504   \n",
       "1  I had such a nice dining experience at Selden ...  ...  0.002343  0.000635   \n",
       "2  We came here for my daughter's birthday and it...  ...  0.018516  0.001198   \n",
       "\n",
       "         25        26        27        28        29  \\\n",
       "0  0.001064  0.000943  0.001865  0.065343  0.001309   \n",
       "1  0.000270  0.000239  0.000473  0.053889  0.000332   \n",
       "2  0.000509  0.000451  0.000892  0.087643  0.000626   \n",
       "\n",
       "   Negative_SentiStrength_Score  Positive_SentiStrength_Score  \\\n",
       "0                            -1                             4   \n",
       "1                            -3                             4   \n",
       "2                            -1                             4   \n",
       "\n",
       "   Average_SentiStrength_Score  \n",
       "0                            3  \n",
       "1                            1  \n",
       "2                            3  \n",
       "\n",
       "[3 rows x 45 columns]"
      ]
     },
     "execution_count": 2,
     "metadata": {},
     "output_type": "execute_result"
    }
   ],
   "source": [
    "df = pd.read_csv('review_is.csv')\n",
    "df.head(3)"
   ]
  },
  {
   "cell_type": "code",
   "execution_count": 3,
   "metadata": {},
   "outputs": [
    {
     "data": {
      "text/plain": [
       "9116"
      ]
     },
     "execution_count": 3,
     "metadata": {},
     "output_type": "execute_result"
    }
   ],
   "source": [
    "len(df)"
   ]
  },
  {
   "cell_type": "code",
   "execution_count": 4,
   "metadata": {},
   "outputs": [
    {
     "data": {
      "text/plain": [
       "4657"
      ]
     },
     "execution_count": 4,
     "metadata": {},
     "output_type": "execute_result"
    }
   ],
   "source": [
    "len(df['reviewer'].unique())"
   ]
  },
  {
   "cell_type": "code",
   "execution_count": 5,
   "metadata": {},
   "outputs": [
    {
     "data": {
      "text/html": [
       "<div>\n",
       "<style scoped>\n",
       "    .dataframe tbody tr th:only-of-type {\n",
       "        vertical-align: middle;\n",
       "    }\n",
       "\n",
       "    .dataframe tbody tr th {\n",
       "        vertical-align: top;\n",
       "    }\n",
       "\n",
       "    .dataframe thead th {\n",
       "        text-align: right;\n",
       "    }\n",
       "</style>\n",
       "<table border=\"1\" class=\"dataframe\">\n",
       "  <thead>\n",
       "    <tr style=\"text-align: right;\">\n",
       "      <th></th>\n",
       "      <th>date</th>\n",
       "      <th>rating</th>\n",
       "      <th>number_of_reviews</th>\n",
       "      <th>number_of_friends</th>\n",
       "      <th>negative_sentiment</th>\n",
       "      <th>positive_sentiment</th>\n",
       "      <th>average_sentiment</th>\n",
       "    </tr>\n",
       "  </thead>\n",
       "  <tbody>\n",
       "    <tr>\n",
       "      <th>0</th>\n",
       "      <td>4254</td>\n",
       "      <td>5</td>\n",
       "      <td>74</td>\n",
       "      <td>126</td>\n",
       "      <td>-1</td>\n",
       "      <td>4</td>\n",
       "      <td>3</td>\n",
       "    </tr>\n",
       "    <tr>\n",
       "      <th>1</th>\n",
       "      <td>4129</td>\n",
       "      <td>5</td>\n",
       "      <td>466</td>\n",
       "      <td>196</td>\n",
       "      <td>-3</td>\n",
       "      <td>4</td>\n",
       "      <td>1</td>\n",
       "    </tr>\n",
       "    <tr>\n",
       "      <th>2</th>\n",
       "      <td>4223</td>\n",
       "      <td>5</td>\n",
       "      <td>274</td>\n",
       "      <td>183</td>\n",
       "      <td>-1</td>\n",
       "      <td>4</td>\n",
       "      <td>3</td>\n",
       "    </tr>\n",
       "  </tbody>\n",
       "</table>\n",
       "</div>"
      ],
      "text/plain": [
       "   date  rating  number_of_reviews  number_of_friends  negative_sentiment  \\\n",
       "0  4254       5                 74                126                  -1   \n",
       "1  4129       5                466                196                  -3   \n",
       "2  4223       5                274                183                  -1   \n",
       "\n",
       "   positive_sentiment  average_sentiment  \n",
       "0                   4                  3  \n",
       "1                   4                  1  \n",
       "2                   4                  3  "
      ]
     },
     "execution_count": 5,
     "metadata": {},
     "output_type": "execute_result"
    }
   ],
   "source": [
    "df2 = df[['date', 'rating', 'number_of_reviews', 'number_of_friends',\n",
    "          'Negative_SentiStrength_Score', 'Positive_SentiStrength_Score', 'Average_SentiStrength_Score', ]]\n",
    "\n",
    "df2 = df2.rename(columns={'Negative_SentiStrength_Score': 'negative_sentiment', 'Positive_SentiStrength_Score': 'positive_sentiment',\n",
    "                          'Average_SentiStrength_Score': 'average_sentiment', })\n",
    "\n",
    "df2['date'] = pd.to_datetime(df2['date'], errors='coerce')\n",
    "df2['date'] = df2['date'].map(dt.datetime.toordinal) - 733606\n",
    "\n",
    "df2.head(3)"
   ]
  },
  {
   "cell_type": "code",
   "execution_count": 6,
   "metadata": {
    "scrolled": true
   },
   "outputs": [
    {
     "data": {
      "text/html": [
       "<div>\n",
       "<style scoped>\n",
       "    .dataframe tbody tr th:only-of-type {\n",
       "        vertical-align: middle;\n",
       "    }\n",
       "\n",
       "    .dataframe tbody tr th {\n",
       "        vertical-align: top;\n",
       "    }\n",
       "\n",
       "    .dataframe thead th {\n",
       "        text-align: right;\n",
       "    }\n",
       "</style>\n",
       "<table border=\"1\" class=\"dataframe\">\n",
       "  <thead>\n",
       "    <tr style=\"text-align: right;\">\n",
       "      <th></th>\n",
       "      <th>date</th>\n",
       "      <th>rating</th>\n",
       "      <th>number_of_reviews</th>\n",
       "      <th>number_of_friends</th>\n",
       "      <th>negative_sentiment</th>\n",
       "      <th>positive_sentiment</th>\n",
       "      <th>average_sentiment</th>\n",
       "    </tr>\n",
       "  </thead>\n",
       "  <tbody>\n",
       "    <tr>\n",
       "      <th>count</th>\n",
       "      <td>9116.00</td>\n",
       "      <td>9116.00</td>\n",
       "      <td>9116.00</td>\n",
       "      <td>9116.00</td>\n",
       "      <td>9116.00</td>\n",
       "      <td>9116.00</td>\n",
       "      <td>9116.00</td>\n",
       "    </tr>\n",
       "    <tr>\n",
       "      <th>mean</th>\n",
       "      <td>3678.07</td>\n",
       "      <td>4.07</td>\n",
       "      <td>174.32</td>\n",
       "      <td>150.90</td>\n",
       "      <td>-1.95</td>\n",
       "      <td>3.12</td>\n",
       "      <td>1.18</td>\n",
       "    </tr>\n",
       "    <tr>\n",
       "      <th>std</th>\n",
       "      <td>565.99</td>\n",
       "      <td>1.23</td>\n",
       "      <td>457.26</td>\n",
       "      <td>389.81</td>\n",
       "      <td>0.99</td>\n",
       "      <td>0.75</td>\n",
       "      <td>1.27</td>\n",
       "    </tr>\n",
       "    <tr>\n",
       "      <th>min</th>\n",
       "      <td>-568.00</td>\n",
       "      <td>1.00</td>\n",
       "      <td>1.00</td>\n",
       "      <td>0.00</td>\n",
       "      <td>-5.00</td>\n",
       "      <td>1.00</td>\n",
       "      <td>-4.00</td>\n",
       "    </tr>\n",
       "    <tr>\n",
       "      <th>25%</th>\n",
       "      <td>3459.00</td>\n",
       "      <td>4.00</td>\n",
       "      <td>12.00</td>\n",
       "      <td>3.00</td>\n",
       "      <td>-2.00</td>\n",
       "      <td>3.00</td>\n",
       "      <td>1.00</td>\n",
       "    </tr>\n",
       "    <tr>\n",
       "      <th>50%</th>\n",
       "      <td>3783.00</td>\n",
       "      <td>5.00</td>\n",
       "      <td>56.00</td>\n",
       "      <td>48.00</td>\n",
       "      <td>-2.00</td>\n",
       "      <td>3.00</td>\n",
       "      <td>1.00</td>\n",
       "    </tr>\n",
       "    <tr>\n",
       "      <th>75%</th>\n",
       "      <td>4090.00</td>\n",
       "      <td>5.00</td>\n",
       "      <td>171.00</td>\n",
       "      <td>156.00</td>\n",
       "      <td>-1.00</td>\n",
       "      <td>4.00</td>\n",
       "      <td>2.00</td>\n",
       "    </tr>\n",
       "    <tr>\n",
       "      <th>max</th>\n",
       "      <td>4342.00</td>\n",
       "      <td>5.00</td>\n",
       "      <td>15366.00</td>\n",
       "      <td>5000.00</td>\n",
       "      <td>-1.00</td>\n",
       "      <td>5.00</td>\n",
       "      <td>4.00</td>\n",
       "    </tr>\n",
       "  </tbody>\n",
       "</table>\n",
       "</div>"
      ],
      "text/plain": [
       "         date  rating  number_of_reviews  number_of_friends  \\\n",
       "count 9116.00 9116.00            9116.00            9116.00   \n",
       "mean  3678.07    4.07             174.32             150.90   \n",
       "std    565.99    1.23             457.26             389.81   \n",
       "min   -568.00    1.00               1.00               0.00   \n",
       "25%   3459.00    4.00              12.00               3.00   \n",
       "50%   3783.00    5.00              56.00              48.00   \n",
       "75%   4090.00    5.00             171.00             156.00   \n",
       "max   4342.00    5.00           15366.00            5000.00   \n",
       "\n",
       "       negative_sentiment  positive_sentiment  average_sentiment  \n",
       "count             9116.00             9116.00            9116.00  \n",
       "mean                -1.95                3.12               1.18  \n",
       "std                  0.99                0.75               1.27  \n",
       "min                 -5.00                1.00              -4.00  \n",
       "25%                 -2.00                3.00               1.00  \n",
       "50%                 -2.00                3.00               1.00  \n",
       "75%                 -1.00                4.00               2.00  \n",
       "max                 -1.00                5.00               4.00  "
      ]
     },
     "execution_count": 6,
     "metadata": {},
     "output_type": "execute_result"
    }
   ],
   "source": [
    "pd.set_option('display.float_format', lambda x: '%.2f' % x)\n",
    "df2.describe()"
   ]
  },
  {
   "cell_type": "code",
   "execution_count": 25,
   "metadata": {},
   "outputs": [
    {
     "data": {
      "text/plain": [
       "1.2333333333333334"
      ]
     },
     "execution_count": 25,
     "metadata": {},
     "output_type": "execute_result"
    }
   ],
   "source": [
    "df2[df2['number_of_friends'] >= 1500]['average_sentiment'].values.mean()"
   ]
  },
  {
   "cell_type": "code",
   "execution_count": 7,
   "metadata": {},
   "outputs": [
    {
     "data": {
      "image/png": "[encoded data removed]",
      "text/plain": [
       "<Figure size 500x500 with 1 Axes>"
      ]
     },
     "metadata": {
      "needs_background": "light"
     },
     "output_type": "display_data"
    }
   ],
   "source": [
    "sns.displot(df2, x=\"number_of_friends\", bins=50);"
   ]
  },
  {
   "cell_type": "code",
   "execution_count": 8,
   "metadata": {},
   "outputs": [
    {
     "data": {
      "image/png": "[encoded data removed]",
      "text/plain": [
       "<Figure size 600x400 with 1 Axes>"
      ]
     },
     "metadata": {
      "needs_background": "light"
     },
     "output_type": "display_data"
    }
   ],
   "source": [
    "sns.boxplot(df2[\"number_of_friends\"]);"
   ]
  },
  {
   "cell_type": "code",
   "execution_count": 9,
   "metadata": {},
   "outputs": [
    {
     "data": {
      "text/plain": [
       "0.9845326897762177"
      ]
     },
     "execution_count": 9,
     "metadata": {},
     "output_type": "execute_result"
    }
   ],
   "source": [
    "len(df2[df2['number_of_friends'] <= 1000]) / len(df2)"
   ]
  },
  {
   "cell_type": "code",
   "execution_count": 10,
   "metadata": {},
   "outputs": [
    {
     "data": {
      "text/plain": [
       "1489.0"
      ]
     },
     "execution_count": 10,
     "metadata": {},
     "output_type": "execute_result"
    }
   ],
   "source": [
    "a = np.array(df2['number_of_friends'])\n",
    "np.percentile(a, 99, axis=0)"
   ]
  },
  {
   "cell_type": "code",
   "execution_count": 11,
   "metadata": {},
   "outputs": [
    {
     "name": "stdout",
     "output_type": "stream",
     "text": [
      "                            OLS Regression Results                            \n",
      "==============================================================================\n",
      "Dep. Variable:      number_of_friends   R-squared:                       0.245\n",
      "Model:                            OLS   Adj. R-squared:                  0.245\n",
      "Method:                 Least Squares   F-statistic:                     592.8\n",
      "Date:                Sat, 03 Jul 2021   Prob (F-statistic):               0.00\n",
      "Time:                        19:50:23   Log-Likelihood:                -66034.\n",
      "No. Observations:                9116   AIC:                         1.321e+05\n",
      "Df Residuals:                    9110   BIC:                         1.321e+05\n",
      "Df Model:                           5                                         \n",
      "Covariance Type:            nonrobust                                         \n",
      "======================================================================================\n",
      "                         coef    std err          t      P>|t|      [0.025      0.975]\n",
      "--------------------------------------------------------------------------------------\n",
      "Intercept             61.6091     31.882      1.932      0.053      -0.887     124.105\n",
      "date                  -0.0306      0.006     -4.855      0.000      -0.043      -0.018\n",
      "rating                15.6255      3.430      4.556      0.000       8.902      22.349\n",
      "negative_sentiment   -13.1336      3.027     -4.339      0.000     -19.068      -7.200\n",
      "positive_sentiment    13.1458      3.498      3.758      0.000       6.289      20.003\n",
      "average_sentiment      0.0122      2.268      0.005      0.996      -4.434       4.459\n",
      "number_of_reviews      0.4111      0.008     52.579      0.000       0.396       0.426\n",
      "==============================================================================\n",
      "Omnibus:                    11936.973   Durbin-Watson:                   1.873\n",
      "Prob(Omnibus):                  0.000   Jarque-Bera (JB):          2583893.449\n",
      "Skew:                           7.358   Prob(JB):                         0.00\n",
      "Kurtosis:                      84.155   Cond. No.                     9.02e+18\n",
      "==============================================================================\n",
      "\n",
      "Notes:\n",
      "[1] Standard Errors assume that the covariance matrix of the errors is correctly specified.\n",
      "[2] The smallest eigenvalue is 1.55e-27. This might indicate that there are\n",
      "strong multicollinearity problems or that the design matrix is singular.\n"
     ]
    }
   ],
   "source": [
    "model_lin = sm.OLS.from_formula(\"number_of_friends ~ date + rating + negative_sentiment + positive_sentiment + average_sentiment + number_of_reviews\", data=df2)\n",
    "result_lin = model_lin.fit()\n",
    "print(result_lin.summary())"
   ]
  },
  {
   "cell_type": "code",
   "execution_count": 12,
   "metadata": {},
   "outputs": [
    {
     "data": {
      "image/png": "[encoded data removed]",
      "text/plain": [
       "<Figure size 800x600 with 2 Axes>"
      ]
     },
     "metadata": {
      "needs_background": "light"
     },
     "output_type": "display_data"
    }
   ],
   "source": [
    "df3 = df2.drop(columns='average_sentiment')\n",
    "\n",
    "corrmat = df3.corr()\n",
    "plt.subplots(figsize=(8,6))\n",
    "sns.heatmap(corrmat, center=0, annot=True);"
   ]
  },
  {
   "cell_type": "code",
   "execution_count": 13,
   "metadata": {},
   "outputs": [
    {
     "data": {
      "image/png": "[encoded data removed]",
      "text/plain": [
       "<Figure size 600x400 with 1 Axes>"
      ]
     },
     "metadata": {
      "needs_background": "light"
     },
     "output_type": "display_data"
    }
   ],
   "source": [
    "g = sns.regplot(x=\"number_of_reviews\", y=\"number_of_friends\", scatter_kws={'s':10}, data=df3)\n",
    "g.set(xlim=(0, 5000));"
   ]
  }
 ],
 "metadata": {
  "kernelspec": {
   "display_name": "Python 3",
   "language": "python",
   "name": "python3"
  },
  "language_info": {
   "codemirror_mode": {
    "name": "ipython",
    "version": 3
   },
   "file_extension": ".py",
   "mimetype": "text/x-python",
   "name": "python",
   "nbconvert_exporter": "python",
   "pygments_lexer": "ipython3",
   "version": "3.8.5"
  }
 },
 "nbformat": 4,
 "nbformat_minor": 4
}
